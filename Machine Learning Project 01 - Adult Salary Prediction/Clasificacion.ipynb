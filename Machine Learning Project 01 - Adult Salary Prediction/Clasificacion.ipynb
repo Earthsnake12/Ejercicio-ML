{
 "cells": [
  {
   "cell_type": "code",
   "execution_count": 1,
   "id": "c715ba81",
   "metadata": {},
   "outputs": [],
   "source": [
    "import pandas as pd\n",
    "import numpy as np\n",
    "import seaborn as sns\n",
    "import matplotlib.pyplot as plt"
   ]
  },
  {
   "cell_type": "markdown",
   "id": "2bacac2b",
   "metadata": {},
   "source": [
    "Determinar si una persona ganara mas de 50k o no"
   ]
  },
  {
   "cell_type": "markdown",
   "id": "32ac01a9",
   "metadata": {
    "heading_collapsed": true
   },
   "source": [
    "### Carga de datos"
   ]
  },
  {
   "cell_type": "code",
   "execution_count": 2,
   "id": "fc39736d",
   "metadata": {
    "hidden": true
   },
   "outputs": [
    {
     "name": "stdout",
     "output_type": "stream",
     "text": [
      "(32561, 15)\n"
     ]
    },
    {
     "data": {
      "text/html": [
       "<div>\n",
       "<style scoped>\n",
       "    .dataframe tbody tr th:only-of-type {\n",
       "        vertical-align: middle;\n",
       "    }\n",
       "\n",
       "    .dataframe tbody tr th {\n",
       "        vertical-align: top;\n",
       "    }\n",
       "\n",
       "    .dataframe thead th {\n",
       "        text-align: right;\n",
       "    }\n",
       "</style>\n",
       "<table border=\"1\" class=\"dataframe\">\n",
       "  <thead>\n",
       "    <tr style=\"text-align: right;\">\n",
       "      <th></th>\n",
       "      <th>age</th>\n",
       "      <th>workclass</th>\n",
       "      <th>fnlwgt</th>\n",
       "      <th>education</th>\n",
       "      <th>education-num</th>\n",
       "      <th>marital-status</th>\n",
       "      <th>occupation</th>\n",
       "      <th>relationship</th>\n",
       "      <th>race</th>\n",
       "      <th>sex</th>\n",
       "      <th>capital-gain</th>\n",
       "      <th>capital-loss</th>\n",
       "      <th>hours-per-week</th>\n",
       "      <th>native-country</th>\n",
       "      <th>salary</th>\n",
       "    </tr>\n",
       "  </thead>\n",
       "  <tbody>\n",
       "    <tr>\n",
       "      <th>0</th>\n",
       "      <td>39</td>\n",
       "      <td>State-gov</td>\n",
       "      <td>77516</td>\n",
       "      <td>Bachelors</td>\n",
       "      <td>13</td>\n",
       "      <td>Never-married</td>\n",
       "      <td>Adm-clerical</td>\n",
       "      <td>Not-in-family</td>\n",
       "      <td>White</td>\n",
       "      <td>Male</td>\n",
       "      <td>2174</td>\n",
       "      <td>0</td>\n",
       "      <td>40</td>\n",
       "      <td>United-States</td>\n",
       "      <td>&lt;=50K</td>\n",
       "    </tr>\n",
       "    <tr>\n",
       "      <th>1</th>\n",
       "      <td>50</td>\n",
       "      <td>Self-emp-not-inc</td>\n",
       "      <td>83311</td>\n",
       "      <td>Bachelors</td>\n",
       "      <td>13</td>\n",
       "      <td>Married-civ-spouse</td>\n",
       "      <td>Exec-managerial</td>\n",
       "      <td>Husband</td>\n",
       "      <td>White</td>\n",
       "      <td>Male</td>\n",
       "      <td>0</td>\n",
       "      <td>0</td>\n",
       "      <td>13</td>\n",
       "      <td>United-States</td>\n",
       "      <td>&lt;=50K</td>\n",
       "    </tr>\n",
       "    <tr>\n",
       "      <th>2</th>\n",
       "      <td>38</td>\n",
       "      <td>Private</td>\n",
       "      <td>215646</td>\n",
       "      <td>HS-grad</td>\n",
       "      <td>9</td>\n",
       "      <td>Divorced</td>\n",
       "      <td>Handlers-cleaners</td>\n",
       "      <td>Not-in-family</td>\n",
       "      <td>White</td>\n",
       "      <td>Male</td>\n",
       "      <td>0</td>\n",
       "      <td>0</td>\n",
       "      <td>40</td>\n",
       "      <td>United-States</td>\n",
       "      <td>&lt;=50K</td>\n",
       "    </tr>\n",
       "    <tr>\n",
       "      <th>3</th>\n",
       "      <td>53</td>\n",
       "      <td>Private</td>\n",
       "      <td>234721</td>\n",
       "      <td>11th</td>\n",
       "      <td>7</td>\n",
       "      <td>Married-civ-spouse</td>\n",
       "      <td>Handlers-cleaners</td>\n",
       "      <td>Husband</td>\n",
       "      <td>Black</td>\n",
       "      <td>Male</td>\n",
       "      <td>0</td>\n",
       "      <td>0</td>\n",
       "      <td>40</td>\n",
       "      <td>United-States</td>\n",
       "      <td>&lt;=50K</td>\n",
       "    </tr>\n",
       "    <tr>\n",
       "      <th>4</th>\n",
       "      <td>28</td>\n",
       "      <td>Private</td>\n",
       "      <td>338409</td>\n",
       "      <td>Bachelors</td>\n",
       "      <td>13</td>\n",
       "      <td>Married-civ-spouse</td>\n",
       "      <td>Prof-specialty</td>\n",
       "      <td>Wife</td>\n",
       "      <td>Black</td>\n",
       "      <td>Female</td>\n",
       "      <td>0</td>\n",
       "      <td>0</td>\n",
       "      <td>40</td>\n",
       "      <td>Cuba</td>\n",
       "      <td>&lt;=50K</td>\n",
       "    </tr>\n",
       "  </tbody>\n",
       "</table>\n",
       "</div>"
      ],
      "text/plain": [
       "   age          workclass  fnlwgt   education  education-num  \\\n",
       "0   39          State-gov   77516   Bachelors             13   \n",
       "1   50   Self-emp-not-inc   83311   Bachelors             13   \n",
       "2   38            Private  215646     HS-grad              9   \n",
       "3   53            Private  234721        11th              7   \n",
       "4   28            Private  338409   Bachelors             13   \n",
       "\n",
       "        marital-status          occupation    relationship    race      sex  \\\n",
       "0        Never-married        Adm-clerical   Not-in-family   White     Male   \n",
       "1   Married-civ-spouse     Exec-managerial         Husband   White     Male   \n",
       "2             Divorced   Handlers-cleaners   Not-in-family   White     Male   \n",
       "3   Married-civ-spouse   Handlers-cleaners         Husband   Black     Male   \n",
       "4   Married-civ-spouse      Prof-specialty            Wife   Black   Female   \n",
       "\n",
       "   capital-gain  capital-loss  hours-per-week  native-country  salary  \n",
       "0          2174             0              40   United-States   <=50K  \n",
       "1             0             0              13   United-States   <=50K  \n",
       "2             0             0              40   United-States   <=50K  \n",
       "3             0             0              40   United-States   <=50K  \n",
       "4             0             0              40            Cuba   <=50K  "
      ]
     },
     "execution_count": 2,
     "metadata": {},
     "output_type": "execute_result"
    }
   ],
   "source": [
    "dataOriginal = pd.read_csv(\"adult_data.csv\")\n",
    "\n",
    "# fnlwgt: numero de personas que representa la entrada\n",
    "dataOriginal.columns = [\"age\", \"workclass\", \"fnlwgt\", \"education\", \"education-num\", \"marital-status\", \"occupation\", \n",
    "                \"relationship\", \"race\", \"sex\", \"capital-gain\", \"capital-loss\", \"hours-per-week\", \"native-country\", \n",
    "                \"salary\"] #este es el que queremos predecir\n",
    "\n",
    "print(dataOriginal.shape) #32561 casos\n",
    "dataOriginal.head()"
   ]
  },
  {
   "cell_type": "code",
   "execution_count": 3,
   "id": "1f4b715e",
   "metadata": {
    "hidden": true
   },
   "outputs": [
    {
     "data": {
      "text/plain": [
       "(32561, 15)"
      ]
     },
     "execution_count": 3,
     "metadata": {},
     "output_type": "execute_result"
    }
   ],
   "source": [
    "# Creamos una copia del dataframe para trabajarla\n",
    "\n",
    "dataModificada = dataOriginal.copy();\n",
    "\n",
    "dataModificada.shape"
   ]
  },
  {
   "cell_type": "markdown",
   "id": "6c57b31f",
   "metadata": {
    "heading_collapsed": true
   },
   "source": [
    "## Procesamiento"
   ]
  },
  {
   "cell_type": "markdown",
   "id": "fed0545c",
   "metadata": {
    "heading_collapsed": true,
    "hidden": true
   },
   "source": [
    "### Valores perdidos "
   ]
  },
  {
   "cell_type": "code",
   "execution_count": 4,
   "id": "2146af89",
   "metadata": {
    "hidden": true
   },
   "outputs": [
    {
     "data": {
      "text/plain": [
       "['workclass: 1836', 'occupation: 1843', 'native-country: 583']"
      ]
     },
     "execution_count": 4,
     "metadata": {},
     "output_type": "execute_result"
    }
   ],
   "source": [
    "# revisamos si hay valores perdidos\n",
    "\n",
    "def buscarValoresPerdidos(df, parametros):\n",
    "    \n",
    "    columnaConValoresPerdidos = []\n",
    "\n",
    "    for parametro in parametros:  \n",
    "        cantPerdida = df[parametro].apply(lambda x: 1 if (x == \" ?\") else 0).sum()\n",
    "        if(cantPerdida > 0): \n",
    "            \n",
    "            columnaConValoresPerdidos.append(str(parametro) + \": \" + str(cantPerdida))\n",
    "            \n",
    "    if (len(columnaConValoresPerdidos) == 0): return \"Sin valores perdidos\"\n",
    "            \n",
    "    return columnaConValoresPerdidos\n",
    "\n",
    "buscarValoresPerdidos(dataModificada, [\"age\", \"workclass\", \"fnlwgt\", \"education\", \"education-num\", \"marital-status\",\n",
    "                                       \"occupation\", \"relationship\", \"race\", \"sex\", \"capital-gain\", \"capital-loss\",\n",
    "                                       \"hours-per-week\", \"native-country\", \"salary\"])"
   ]
  },
  {
   "cell_type": "code",
   "execution_count": 5,
   "id": "5970344c",
   "metadata": {
    "code_folding": [],
    "hidden": true,
    "hide_input": false
   },
   "outputs": [
    {
     "data": {
      "text/plain": [
       "'Sin valores perdidos'"
      ]
     },
     "execution_count": 5,
     "metadata": {},
     "output_type": "execute_result"
    }
   ],
   "source": [
    "# hay valores perdidos en workclass, occupation y native-country. Representan el 5% del total, vamos a eliminarlo\n",
    "\n",
    "for parametro in [\"workclass\",  \"occupation\", \"native-country\"]:\n",
    "    indexEliminar=dataModificada[dataModificada[parametro] == \" ?\"].index\n",
    "    dataModificada=dataModificada.drop(indexEliminar)\n",
    "\n",
    "buscarValoresPerdidos(dataModificada,[\"workclass\",  \"occupation\", \"native-country\"])\n"
   ]
  },
  {
   "cell_type": "code",
   "execution_count": 6,
   "id": "830ff9d2",
   "metadata": {
    "hidden": true
   },
   "outputs": [
    {
     "data": {
      "text/plain": [
       "(30162, 15)"
      ]
     },
     "execution_count": 6,
     "metadata": {},
     "output_type": "execute_result"
    }
   ],
   "source": [
    "dataModificada.shape"
   ]
  },
  {
   "cell_type": "markdown",
   "id": "b39f4735",
   "metadata": {
    "hidden": true,
    "hide_input": true
   },
   "source": [
    "Se elimino la data perdida. Se redujo de 32561 a 30162 (7%)"
   ]
  },
  {
   "cell_type": "markdown",
   "id": "9656723f",
   "metadata": {
    "heading_collapsed": true,
    "hidden": true
   },
   "source": [
    "### Eliminamos columnas no utiles"
   ]
  },
  {
   "cell_type": "code",
   "execution_count": 7,
   "id": "4cdafc47",
   "metadata": {
    "hidden": true,
    "scrolled": true
   },
   "outputs": [
    {
     "data": {
      "text/html": [
       "<div>\n",
       "<style scoped>\n",
       "    .dataframe tbody tr th:only-of-type {\n",
       "        vertical-align: middle;\n",
       "    }\n",
       "\n",
       "    .dataframe tbody tr th {\n",
       "        vertical-align: top;\n",
       "    }\n",
       "\n",
       "    .dataframe thead th {\n",
       "        text-align: right;\n",
       "    }\n",
       "</style>\n",
       "<table border=\"1\" class=\"dataframe\">\n",
       "  <thead>\n",
       "    <tr style=\"text-align: right;\">\n",
       "      <th></th>\n",
       "      <th>age</th>\n",
       "      <th>workclass</th>\n",
       "      <th>education</th>\n",
       "      <th>marital-status</th>\n",
       "      <th>occupation</th>\n",
       "      <th>relationship</th>\n",
       "      <th>race</th>\n",
       "      <th>sex</th>\n",
       "      <th>capital-gain</th>\n",
       "      <th>capital-loss</th>\n",
       "      <th>hours-per-week</th>\n",
       "      <th>native-country</th>\n",
       "      <th>salary</th>\n",
       "    </tr>\n",
       "  </thead>\n",
       "  <tbody>\n",
       "    <tr>\n",
       "      <th>0</th>\n",
       "      <td>39</td>\n",
       "      <td>State-gov</td>\n",
       "      <td>Bachelors</td>\n",
       "      <td>Never-married</td>\n",
       "      <td>Adm-clerical</td>\n",
       "      <td>Not-in-family</td>\n",
       "      <td>White</td>\n",
       "      <td>Male</td>\n",
       "      <td>2174</td>\n",
       "      <td>0</td>\n",
       "      <td>40</td>\n",
       "      <td>United-States</td>\n",
       "      <td>&lt;=50K</td>\n",
       "    </tr>\n",
       "    <tr>\n",
       "      <th>1</th>\n",
       "      <td>50</td>\n",
       "      <td>Self-emp-not-inc</td>\n",
       "      <td>Bachelors</td>\n",
       "      <td>Married-civ-spouse</td>\n",
       "      <td>Exec-managerial</td>\n",
       "      <td>Husband</td>\n",
       "      <td>White</td>\n",
       "      <td>Male</td>\n",
       "      <td>0</td>\n",
       "      <td>0</td>\n",
       "      <td>13</td>\n",
       "      <td>United-States</td>\n",
       "      <td>&lt;=50K</td>\n",
       "    </tr>\n",
       "    <tr>\n",
       "      <th>2</th>\n",
       "      <td>38</td>\n",
       "      <td>Private</td>\n",
       "      <td>HS-grad</td>\n",
       "      <td>Divorced</td>\n",
       "      <td>Handlers-cleaners</td>\n",
       "      <td>Not-in-family</td>\n",
       "      <td>White</td>\n",
       "      <td>Male</td>\n",
       "      <td>0</td>\n",
       "      <td>0</td>\n",
       "      <td>40</td>\n",
       "      <td>United-States</td>\n",
       "      <td>&lt;=50K</td>\n",
       "    </tr>\n",
       "    <tr>\n",
       "      <th>3</th>\n",
       "      <td>53</td>\n",
       "      <td>Private</td>\n",
       "      <td>11th</td>\n",
       "      <td>Married-civ-spouse</td>\n",
       "      <td>Handlers-cleaners</td>\n",
       "      <td>Husband</td>\n",
       "      <td>Black</td>\n",
       "      <td>Male</td>\n",
       "      <td>0</td>\n",
       "      <td>0</td>\n",
       "      <td>40</td>\n",
       "      <td>United-States</td>\n",
       "      <td>&lt;=50K</td>\n",
       "    </tr>\n",
       "    <tr>\n",
       "      <th>4</th>\n",
       "      <td>28</td>\n",
       "      <td>Private</td>\n",
       "      <td>Bachelors</td>\n",
       "      <td>Married-civ-spouse</td>\n",
       "      <td>Prof-specialty</td>\n",
       "      <td>Wife</td>\n",
       "      <td>Black</td>\n",
       "      <td>Female</td>\n",
       "      <td>0</td>\n",
       "      <td>0</td>\n",
       "      <td>40</td>\n",
       "      <td>Cuba</td>\n",
       "      <td>&lt;=50K</td>\n",
       "    </tr>\n",
       "    <tr>\n",
       "      <th>...</th>\n",
       "      <td>...</td>\n",
       "      <td>...</td>\n",
       "      <td>...</td>\n",
       "      <td>...</td>\n",
       "      <td>...</td>\n",
       "      <td>...</td>\n",
       "      <td>...</td>\n",
       "      <td>...</td>\n",
       "      <td>...</td>\n",
       "      <td>...</td>\n",
       "      <td>...</td>\n",
       "      <td>...</td>\n",
       "      <td>...</td>\n",
       "    </tr>\n",
       "    <tr>\n",
       "      <th>32556</th>\n",
       "      <td>27</td>\n",
       "      <td>Private</td>\n",
       "      <td>Assoc-acdm</td>\n",
       "      <td>Married-civ-spouse</td>\n",
       "      <td>Tech-support</td>\n",
       "      <td>Wife</td>\n",
       "      <td>White</td>\n",
       "      <td>Female</td>\n",
       "      <td>0</td>\n",
       "      <td>0</td>\n",
       "      <td>38</td>\n",
       "      <td>United-States</td>\n",
       "      <td>&lt;=50K</td>\n",
       "    </tr>\n",
       "    <tr>\n",
       "      <th>32557</th>\n",
       "      <td>40</td>\n",
       "      <td>Private</td>\n",
       "      <td>HS-grad</td>\n",
       "      <td>Married-civ-spouse</td>\n",
       "      <td>Machine-op-inspct</td>\n",
       "      <td>Husband</td>\n",
       "      <td>White</td>\n",
       "      <td>Male</td>\n",
       "      <td>0</td>\n",
       "      <td>0</td>\n",
       "      <td>40</td>\n",
       "      <td>United-States</td>\n",
       "      <td>&gt;50K</td>\n",
       "    </tr>\n",
       "    <tr>\n",
       "      <th>32558</th>\n",
       "      <td>58</td>\n",
       "      <td>Private</td>\n",
       "      <td>HS-grad</td>\n",
       "      <td>Widowed</td>\n",
       "      <td>Adm-clerical</td>\n",
       "      <td>Unmarried</td>\n",
       "      <td>White</td>\n",
       "      <td>Female</td>\n",
       "      <td>0</td>\n",
       "      <td>0</td>\n",
       "      <td>40</td>\n",
       "      <td>United-States</td>\n",
       "      <td>&lt;=50K</td>\n",
       "    </tr>\n",
       "    <tr>\n",
       "      <th>32559</th>\n",
       "      <td>22</td>\n",
       "      <td>Private</td>\n",
       "      <td>HS-grad</td>\n",
       "      <td>Never-married</td>\n",
       "      <td>Adm-clerical</td>\n",
       "      <td>Own-child</td>\n",
       "      <td>White</td>\n",
       "      <td>Male</td>\n",
       "      <td>0</td>\n",
       "      <td>0</td>\n",
       "      <td>20</td>\n",
       "      <td>United-States</td>\n",
       "      <td>&lt;=50K</td>\n",
       "    </tr>\n",
       "    <tr>\n",
       "      <th>32560</th>\n",
       "      <td>52</td>\n",
       "      <td>Self-emp-inc</td>\n",
       "      <td>HS-grad</td>\n",
       "      <td>Married-civ-spouse</td>\n",
       "      <td>Exec-managerial</td>\n",
       "      <td>Wife</td>\n",
       "      <td>White</td>\n",
       "      <td>Female</td>\n",
       "      <td>15024</td>\n",
       "      <td>0</td>\n",
       "      <td>40</td>\n",
       "      <td>United-States</td>\n",
       "      <td>&gt;50K</td>\n",
       "    </tr>\n",
       "  </tbody>\n",
       "</table>\n",
       "<p>30162 rows × 13 columns</p>\n",
       "</div>"
      ],
      "text/plain": [
       "       age          workclass    education       marital-status  \\\n",
       "0       39          State-gov    Bachelors        Never-married   \n",
       "1       50   Self-emp-not-inc    Bachelors   Married-civ-spouse   \n",
       "2       38            Private      HS-grad             Divorced   \n",
       "3       53            Private         11th   Married-civ-spouse   \n",
       "4       28            Private    Bachelors   Married-civ-spouse   \n",
       "...    ...                ...          ...                  ...   \n",
       "32556   27            Private   Assoc-acdm   Married-civ-spouse   \n",
       "32557   40            Private      HS-grad   Married-civ-spouse   \n",
       "32558   58            Private      HS-grad              Widowed   \n",
       "32559   22            Private      HS-grad        Never-married   \n",
       "32560   52       Self-emp-inc      HS-grad   Married-civ-spouse   \n",
       "\n",
       "               occupation    relationship    race      sex  capital-gain  \\\n",
       "0            Adm-clerical   Not-in-family   White     Male          2174   \n",
       "1         Exec-managerial         Husband   White     Male             0   \n",
       "2       Handlers-cleaners   Not-in-family   White     Male             0   \n",
       "3       Handlers-cleaners         Husband   Black     Male             0   \n",
       "4          Prof-specialty            Wife   Black   Female             0   \n",
       "...                   ...             ...     ...      ...           ...   \n",
       "32556        Tech-support            Wife   White   Female             0   \n",
       "32557   Machine-op-inspct         Husband   White     Male             0   \n",
       "32558        Adm-clerical       Unmarried   White   Female             0   \n",
       "32559        Adm-clerical       Own-child   White     Male             0   \n",
       "32560     Exec-managerial            Wife   White   Female         15024   \n",
       "\n",
       "       capital-loss  hours-per-week  native-country  salary  \n",
       "0                 0              40   United-States   <=50K  \n",
       "1                 0              13   United-States   <=50K  \n",
       "2                 0              40   United-States   <=50K  \n",
       "3                 0              40   United-States   <=50K  \n",
       "4                 0              40            Cuba   <=50K  \n",
       "...             ...             ...             ...     ...  \n",
       "32556             0              38   United-States   <=50K  \n",
       "32557             0              40   United-States    >50K  \n",
       "32558             0              40   United-States   <=50K  \n",
       "32559             0              20   United-States   <=50K  \n",
       "32560             0              40   United-States    >50K  \n",
       "\n",
       "[30162 rows x 13 columns]"
      ]
     },
     "execution_count": 7,
     "metadata": {},
     "output_type": "execute_result"
    }
   ],
   "source": [
    "# Eliminamos la columna education-num, ya que es equivalente a education y fnlwgt ya que para lo que queremos analizar no \n",
    "# nos es util\n",
    "\n",
    "dataModificada = dataModificada.drop(columns=[\"education-num\", \"fnlwgt\"])\n",
    "dataModificada"
   ]
  },
  {
   "cell_type": "markdown",
   "id": "90638aa9",
   "metadata": {
    "heading_collapsed": true,
    "hidden": true
   },
   "source": [
    "### Paso de valores escritos a numericos"
   ]
  },
  {
   "cell_type": "code",
   "execution_count": 8,
   "id": "3501ad17",
   "metadata": {
    "hidden": true,
    "hide_input": false,
    "scrolled": true
   },
   "outputs": [
    {
     "name": "stdout",
     "output_type": "stream",
     "text": [
      "workclass: 7\n",
      "[' State-gov' ' Self-emp-not-inc' ' Private' ' Federal-gov' ' Local-gov'\n",
      " ' Self-emp-inc' ' Without-pay']\n",
      "\n",
      "education: 16\n",
      "[' Bachelors' ' HS-grad' ' 11th' ' Masters' ' 9th' ' Some-college'\n",
      " ' Assoc-acdm' ' 7th-8th' ' Doctorate' ' Assoc-voc' ' Prof-school'\n",
      " ' 5th-6th' ' 10th' ' Preschool' ' 12th' ' 1st-4th']\n",
      "\n",
      "marital-status: 7\n",
      "[' Never-married' ' Married-civ-spouse' ' Divorced'\n",
      " ' Married-spouse-absent' ' Separated' ' Married-AF-spouse' ' Widowed']\n",
      "\n",
      "occupation: 14\n",
      "[' Adm-clerical' ' Exec-managerial' ' Handlers-cleaners' ' Prof-specialty'\n",
      " ' Other-service' ' Sales' ' Transport-moving' ' Farming-fishing'\n",
      " ' Machine-op-inspct' ' Tech-support' ' Craft-repair' ' Protective-serv'\n",
      " ' Armed-Forces' ' Priv-house-serv']\n",
      "\n",
      "relationship: 6\n",
      "[' Not-in-family' ' Husband' ' Wife' ' Own-child' ' Unmarried'\n",
      " ' Other-relative']\n",
      "\n",
      "race: 5\n",
      "[' White' ' Black' ' Asian-Pac-Islander' ' Amer-Indian-Eskimo' ' Other']\n",
      "\n",
      "sex: 2\n",
      "[' Male' ' Female']\n",
      "\n",
      "native-country: 41\n",
      "[' United-States' ' Cuba' ' Jamaica' ' India' ' Mexico' ' Puerto-Rico'\n",
      " ' Honduras' ' England' ' Canada' ' Germany' ' Iran' ' Philippines'\n",
      " ' Poland' ' Columbia' ' Cambodia' ' Thailand' ' Ecuador' ' Laos'\n",
      " ' Taiwan' ' Haiti' ' Portugal' ' Dominican-Republic' ' El-Salvador'\n",
      " ' France' ' Guatemala' ' Italy' ' China' ' South' ' Japan' ' Yugoslavia'\n",
      " ' Peru' ' Outlying-US(Guam-USVI-etc)' ' Scotland' ' Trinadad&Tobago'\n",
      " ' Greece' ' Nicaragua' ' Vietnam' ' Hong' ' Ireland' ' Hungary'\n",
      " ' Holand-Netherlands']\n",
      "\n"
     ]
    }
   ],
   "source": [
    "# workclass, marital-status, occupation, relationship, race, sex y native-country son parametros texto\n",
    "# es necesario pasarlos a numerico\n",
    "# vemos como esta compuesto cada uno\n",
    "\n",
    "for parametro in [\"workclass\", \"education\", \"marital-status\", \"occupation\",\n",
    "                  \"relationship\", \"race\", \"sex\", \"native-country\"]:\n",
    "\n",
    "    print(str(parametro) + ': ' + str(dataModificada[parametro].unique().size))\n",
    "    print(dataModificada[parametro].unique())\n",
    "    print(\"\")\n",
    "    "
   ]
  },
  {
   "cell_type": "code",
   "execution_count": 9,
   "id": "cd05e8f5",
   "metadata": {
    "hidden": true,
    "scrolled": true
   },
   "outputs": [
    {
     "data": {
      "text/html": [
       "<div>\n",
       "<style scoped>\n",
       "    .dataframe tbody tr th:only-of-type {\n",
       "        vertical-align: middle;\n",
       "    }\n",
       "\n",
       "    .dataframe tbody tr th {\n",
       "        vertical-align: top;\n",
       "    }\n",
       "\n",
       "    .dataframe thead th {\n",
       "        text-align: right;\n",
       "    }\n",
       "</style>\n",
       "<table border=\"1\" class=\"dataframe\">\n",
       "  <thead>\n",
       "    <tr style=\"text-align: right;\">\n",
       "      <th></th>\n",
       "      <th>age</th>\n",
       "      <th>capital-gain</th>\n",
       "      <th>capital-loss</th>\n",
       "      <th>hours-per-week</th>\n",
       "      <th>salary</th>\n",
       "      <th>workclass_ Federal-gov</th>\n",
       "      <th>workclass_ Local-gov</th>\n",
       "      <th>workclass_ Private</th>\n",
       "      <th>workclass_ Self-emp-inc</th>\n",
       "      <th>workclass_ Self-emp-not-inc</th>\n",
       "      <th>...</th>\n",
       "      <th>native-country_ Portugal</th>\n",
       "      <th>native-country_ Puerto-Rico</th>\n",
       "      <th>native-country_ Scotland</th>\n",
       "      <th>native-country_ South</th>\n",
       "      <th>native-country_ Taiwan</th>\n",
       "      <th>native-country_ Thailand</th>\n",
       "      <th>native-country_ Trinadad&amp;Tobago</th>\n",
       "      <th>native-country_ United-States</th>\n",
       "      <th>native-country_ Vietnam</th>\n",
       "      <th>native-country_ Yugoslavia</th>\n",
       "    </tr>\n",
       "  </thead>\n",
       "  <tbody>\n",
       "    <tr>\n",
       "      <th>0</th>\n",
       "      <td>39</td>\n",
       "      <td>2174</td>\n",
       "      <td>0</td>\n",
       "      <td>40</td>\n",
       "      <td>&lt;=50K</td>\n",
       "      <td>0</td>\n",
       "      <td>0</td>\n",
       "      <td>0</td>\n",
       "      <td>0</td>\n",
       "      <td>0</td>\n",
       "      <td>...</td>\n",
       "      <td>0</td>\n",
       "      <td>0</td>\n",
       "      <td>0</td>\n",
       "      <td>0</td>\n",
       "      <td>0</td>\n",
       "      <td>0</td>\n",
       "      <td>0</td>\n",
       "      <td>1</td>\n",
       "      <td>0</td>\n",
       "      <td>0</td>\n",
       "    </tr>\n",
       "    <tr>\n",
       "      <th>1</th>\n",
       "      <td>50</td>\n",
       "      <td>0</td>\n",
       "      <td>0</td>\n",
       "      <td>13</td>\n",
       "      <td>&lt;=50K</td>\n",
       "      <td>0</td>\n",
       "      <td>0</td>\n",
       "      <td>0</td>\n",
       "      <td>0</td>\n",
       "      <td>1</td>\n",
       "      <td>...</td>\n",
       "      <td>0</td>\n",
       "      <td>0</td>\n",
       "      <td>0</td>\n",
       "      <td>0</td>\n",
       "      <td>0</td>\n",
       "      <td>0</td>\n",
       "      <td>0</td>\n",
       "      <td>1</td>\n",
       "      <td>0</td>\n",
       "      <td>0</td>\n",
       "    </tr>\n",
       "    <tr>\n",
       "      <th>2</th>\n",
       "      <td>38</td>\n",
       "      <td>0</td>\n",
       "      <td>0</td>\n",
       "      <td>40</td>\n",
       "      <td>&lt;=50K</td>\n",
       "      <td>0</td>\n",
       "      <td>0</td>\n",
       "      <td>1</td>\n",
       "      <td>0</td>\n",
       "      <td>0</td>\n",
       "      <td>...</td>\n",
       "      <td>0</td>\n",
       "      <td>0</td>\n",
       "      <td>0</td>\n",
       "      <td>0</td>\n",
       "      <td>0</td>\n",
       "      <td>0</td>\n",
       "      <td>0</td>\n",
       "      <td>1</td>\n",
       "      <td>0</td>\n",
       "      <td>0</td>\n",
       "    </tr>\n",
       "    <tr>\n",
       "      <th>3</th>\n",
       "      <td>53</td>\n",
       "      <td>0</td>\n",
       "      <td>0</td>\n",
       "      <td>40</td>\n",
       "      <td>&lt;=50K</td>\n",
       "      <td>0</td>\n",
       "      <td>0</td>\n",
       "      <td>1</td>\n",
       "      <td>0</td>\n",
       "      <td>0</td>\n",
       "      <td>...</td>\n",
       "      <td>0</td>\n",
       "      <td>0</td>\n",
       "      <td>0</td>\n",
       "      <td>0</td>\n",
       "      <td>0</td>\n",
       "      <td>0</td>\n",
       "      <td>0</td>\n",
       "      <td>1</td>\n",
       "      <td>0</td>\n",
       "      <td>0</td>\n",
       "    </tr>\n",
       "    <tr>\n",
       "      <th>4</th>\n",
       "      <td>28</td>\n",
       "      <td>0</td>\n",
       "      <td>0</td>\n",
       "      <td>40</td>\n",
       "      <td>&lt;=50K</td>\n",
       "      <td>0</td>\n",
       "      <td>0</td>\n",
       "      <td>1</td>\n",
       "      <td>0</td>\n",
       "      <td>0</td>\n",
       "      <td>...</td>\n",
       "      <td>0</td>\n",
       "      <td>0</td>\n",
       "      <td>0</td>\n",
       "      <td>0</td>\n",
       "      <td>0</td>\n",
       "      <td>0</td>\n",
       "      <td>0</td>\n",
       "      <td>0</td>\n",
       "      <td>0</td>\n",
       "      <td>0</td>\n",
       "    </tr>\n",
       "  </tbody>\n",
       "</table>\n",
       "<p>5 rows × 103 columns</p>\n",
       "</div>"
      ],
      "text/plain": [
       "   age  capital-gain  capital-loss  hours-per-week  salary  \\\n",
       "0   39          2174             0              40   <=50K   \n",
       "1   50             0             0              13   <=50K   \n",
       "2   38             0             0              40   <=50K   \n",
       "3   53             0             0              40   <=50K   \n",
       "4   28             0             0              40   <=50K   \n",
       "\n",
       "   workclass_ Federal-gov  workclass_ Local-gov  workclass_ Private  \\\n",
       "0                       0                     0                   0   \n",
       "1                       0                     0                   0   \n",
       "2                       0                     0                   1   \n",
       "3                       0                     0                   1   \n",
       "4                       0                     0                   1   \n",
       "\n",
       "   workclass_ Self-emp-inc  workclass_ Self-emp-not-inc  ...  \\\n",
       "0                        0                            0  ...   \n",
       "1                        0                            1  ...   \n",
       "2                        0                            0  ...   \n",
       "3                        0                            0  ...   \n",
       "4                        0                            0  ...   \n",
       "\n",
       "   native-country_ Portugal  native-country_ Puerto-Rico  \\\n",
       "0                         0                            0   \n",
       "1                         0                            0   \n",
       "2                         0                            0   \n",
       "3                         0                            0   \n",
       "4                         0                            0   \n",
       "\n",
       "   native-country_ Scotland  native-country_ South  native-country_ Taiwan  \\\n",
       "0                         0                      0                       0   \n",
       "1                         0                      0                       0   \n",
       "2                         0                      0                       0   \n",
       "3                         0                      0                       0   \n",
       "4                         0                      0                       0   \n",
       "\n",
       "   native-country_ Thailand  native-country_ Trinadad&Tobago  \\\n",
       "0                         0                                0   \n",
       "1                         0                                0   \n",
       "2                         0                                0   \n",
       "3                         0                                0   \n",
       "4                         0                                0   \n",
       "\n",
       "   native-country_ United-States  native-country_ Vietnam  \\\n",
       "0                              1                        0   \n",
       "1                              1                        0   \n",
       "2                              1                        0   \n",
       "3                              1                        0   \n",
       "4                              0                        0   \n",
       "\n",
       "   native-country_ Yugoslavia  \n",
       "0                           0  \n",
       "1                           0  \n",
       "2                           0  \n",
       "3                           0  \n",
       "4                           0  \n",
       "\n",
       "[5 rows x 103 columns]"
      ]
     },
     "execution_count": 9,
     "metadata": {},
     "output_type": "execute_result"
    }
   ],
   "source": [
    "def oneHotEncoding(df, columnas):\n",
    "    \n",
    "    # Elimino las columnas a las que hare one hot\n",
    "    dataModificadaTemp = df.drop(columns=columnas)\n",
    "\n",
    "    # Usamos la funcion pd.get_dummies para hacer one hot encoding \n",
    "    oneHot = pd.get_dummies(df[columnas])\n",
    "\n",
    "    # unimos todo\n",
    "    return pd.concat([dataModificadaTemp, oneHot], axis=1)\n",
    "\n",
    "dataModificada = oneHotEncoding(dataModificada, [\"workclass\", \"education\", \"marital-status\",\n",
    "                                \"occupation\", \"relationship\", \"race\", \"sex\", \"native-country\"])\n",
    "\n",
    "dataModificada.head()"
   ]
  },
  {
   "cell_type": "markdown",
   "id": "e44d1d46",
   "metadata": {
    "heading_collapsed": true,
    "hidden": true
   },
   "source": [
    "### Analisamos las columnas numericas"
   ]
  },
  {
   "cell_type": "code",
   "execution_count": 10,
   "id": "4161a4d1",
   "metadata": {
    "hidden": true,
    "scrolled": true
   },
   "outputs": [
    {
     "data": {
      "text/plain": [
       "<AxesSubplot:xlabel='hours-per-week', ylabel='Count'>"
      ]
     },
     "execution_count": 10,
     "metadata": {},
     "output_type": "execute_result"
    },
    {
     "data": {
      "image/png": "[encoded data removed]",
      "text/plain": [
       "<Figure size 864x864 with 4 Axes>"
      ]
     },
     "metadata": {
      "needs_background": "light"
     },
     "output_type": "display_data"
    }
   ],
   "source": [
    "# Vamos a ver age, capital-gain, capital-loss, hours-per-week\n",
    "\n",
    "fig, axes = plt.subplots(nrows=2, ncols=2, figsize=(12, 12))\n",
    "\n",
    "sns.histplot(data= dataModificada, x= \"capital-gain\",   hue= \"salary\",  multiple=\"stack\", ax=axes[0,0])\n",
    "sns.histplot(data= dataModificada, x= \"capital-loss\",   hue= \"salary\",  multiple=\"stack\", ax=axes[0,1])\n",
    "sns.histplot(data= dataModificada, x= \"age\",            hue= \"salary\",  multiple=\"stack\", ax=axes[1,0])\n",
    "sns.histplot(data= dataModificada, x= \"hours-per-week\", hue= \"salary\",  multiple=\"stack\", ax=axes[1,1])\n"
   ]
  },
  {
   "cell_type": "code",
   "execution_count": 11,
   "id": "3d7093d5",
   "metadata": {
    "hidden": true
   },
   "outputs": [
    {
     "data": {
      "text/html": [
       "<div>\n",
       "<style scoped>\n",
       "    .dataframe tbody tr th:only-of-type {\n",
       "        vertical-align: middle;\n",
       "    }\n",
       "\n",
       "    .dataframe tbody tr th {\n",
       "        vertical-align: top;\n",
       "    }\n",
       "\n",
       "    .dataframe thead th {\n",
       "        text-align: right;\n",
       "    }\n",
       "</style>\n",
       "<table border=\"1\" class=\"dataframe\">\n",
       "  <thead>\n",
       "    <tr style=\"text-align: right;\">\n",
       "      <th></th>\n",
       "      <th>capital-gain</th>\n",
       "      <th>capital-loss</th>\n",
       "      <th>age</th>\n",
       "      <th>hours-per-week</th>\n",
       "    </tr>\n",
       "  </thead>\n",
       "  <tbody>\n",
       "    <tr>\n",
       "      <th>count</th>\n",
       "      <td>30162.000000</td>\n",
       "      <td>30162.000000</td>\n",
       "      <td>30162.000000</td>\n",
       "      <td>30162.000000</td>\n",
       "    </tr>\n",
       "    <tr>\n",
       "      <th>mean</th>\n",
       "      <td>1092.007858</td>\n",
       "      <td>88.372489</td>\n",
       "      <td>38.437902</td>\n",
       "      <td>40.931238</td>\n",
       "    </tr>\n",
       "    <tr>\n",
       "      <th>std</th>\n",
       "      <td>7406.346497</td>\n",
       "      <td>404.298370</td>\n",
       "      <td>13.134665</td>\n",
       "      <td>11.979984</td>\n",
       "    </tr>\n",
       "    <tr>\n",
       "      <th>min</th>\n",
       "      <td>0.000000</td>\n",
       "      <td>0.000000</td>\n",
       "      <td>17.000000</td>\n",
       "      <td>1.000000</td>\n",
       "    </tr>\n",
       "    <tr>\n",
       "      <th>25%</th>\n",
       "      <td>0.000000</td>\n",
       "      <td>0.000000</td>\n",
       "      <td>28.000000</td>\n",
       "      <td>40.000000</td>\n",
       "    </tr>\n",
       "    <tr>\n",
       "      <th>50%</th>\n",
       "      <td>0.000000</td>\n",
       "      <td>0.000000</td>\n",
       "      <td>37.000000</td>\n",
       "      <td>40.000000</td>\n",
       "    </tr>\n",
       "    <tr>\n",
       "      <th>75%</th>\n",
       "      <td>0.000000</td>\n",
       "      <td>0.000000</td>\n",
       "      <td>47.000000</td>\n",
       "      <td>45.000000</td>\n",
       "    </tr>\n",
       "    <tr>\n",
       "      <th>max</th>\n",
       "      <td>99999.000000</td>\n",
       "      <td>4356.000000</td>\n",
       "      <td>90.000000</td>\n",
       "      <td>99.000000</td>\n",
       "    </tr>\n",
       "  </tbody>\n",
       "</table>\n",
       "</div>"
      ],
      "text/plain": [
       "       capital-gain  capital-loss           age  hours-per-week\n",
       "count  30162.000000  30162.000000  30162.000000    30162.000000\n",
       "mean    1092.007858     88.372489     38.437902       40.931238\n",
       "std     7406.346497    404.298370     13.134665       11.979984\n",
       "min        0.000000      0.000000     17.000000        1.000000\n",
       "25%        0.000000      0.000000     28.000000       40.000000\n",
       "50%        0.000000      0.000000     37.000000       40.000000\n",
       "75%        0.000000      0.000000     47.000000       45.000000\n",
       "max    99999.000000   4356.000000     90.000000       99.000000"
      ]
     },
     "execution_count": 11,
     "metadata": {},
     "output_type": "execute_result"
    }
   ],
   "source": [
    "dataModificada[[\"capital-gain\", \"capital-loss\", \"age\", \"hours-per-week\"]].describe()"
   ]
  },
  {
   "cell_type": "code",
   "execution_count": 12,
   "id": "fcde9043",
   "metadata": {
    "hidden": true
   },
   "outputs": [
    {
     "data": {
      "text/plain": [
       "<AxesSubplot:xlabel='capital-loss', ylabel='Count'>"
      ]
     },
     "execution_count": 12,
     "metadata": {},
     "output_type": "execute_result"
    },
    {
     "data": {
      "image/png": "[encoded data removed]",
      "text/plain": [
       "<Figure size 864x864 with 2 Axes>"
      ]
     },
     "metadata": {
      "needs_background": "light"
     },
     "output_type": "display_data"
    }
   ],
   "source": [
    "# los datos de capital-gain y capital-loss son muy grandes y dispares (se ve con el std)\n",
    "# vamos a pasarlo a escala logaritmica para una mejor implementacion\n",
    "\n",
    "dataModificada[\"capital-gain\"] = np.where(dataModificada[\"capital-gain\"] == 0, 1, dataModificada[\"capital-gain\"]) \n",
    "dataModificada[\"capital-loss\"] = np.where(dataModificada[\"capital-loss\"] == 0, 1, dataModificada[\"capital-loss\"]) \n",
    "# si se deja los valores de '0' el log daria error, por ello se pasa a 1 que el log dara 0\n",
    "\n",
    "dataModificada[[\"capital-gain\", \"capital-loss\"]] = np.log(dataModificada[[\"capital-gain\", \"capital-loss\"]])\n",
    "#dataModificada[\"capital-gain\", \"capital-loss\"] = np.log(dataModificada[\"capital-gain\", \"capital-loss\"])\n",
    "\n",
    "fig, axes = plt.subplots(nrows=1, ncols=2, figsize=(12, 12))\n",
    "\n",
    "sns.histplot(data= dataModificada, x= \"capital-gain\", hue= \"salary\", multiple=\"stack\", \n",
    "             log_scale=(False, True), ax=axes[0])\n",
    "\n",
    "sns.histplot(data= dataModificada, x= \"capital-loss\", hue= \"salary\", multiple=\"stack\",\n",
    "             log_scale=(False, True),  ax=axes[1])"
   ]
  },
  {
   "cell_type": "code",
   "execution_count": 13,
   "id": "c9a4e337",
   "metadata": {
    "hidden": true,
    "scrolled": false
   },
   "outputs": [
    {
     "data": {
      "text/html": [
       "<div>\n",
       "<style scoped>\n",
       "    .dataframe tbody tr th:only-of-type {\n",
       "        vertical-align: middle;\n",
       "    }\n",
       "\n",
       "    .dataframe tbody tr th {\n",
       "        vertical-align: top;\n",
       "    }\n",
       "\n",
       "    .dataframe thead th {\n",
       "        text-align: right;\n",
       "    }\n",
       "</style>\n",
       "<table border=\"1\" class=\"dataframe\">\n",
       "  <thead>\n",
       "    <tr style=\"text-align: right;\">\n",
       "      <th></th>\n",
       "      <th>capital-gain</th>\n",
       "      <th>capital-loss</th>\n",
       "    </tr>\n",
       "  </thead>\n",
       "  <tbody>\n",
       "    <tr>\n",
       "      <th>count</th>\n",
       "      <td>30162.000000</td>\n",
       "      <td>30162.000000</td>\n",
       "    </tr>\n",
       "    <tr>\n",
       "      <th>mean</th>\n",
       "      <td>0.743627</td>\n",
       "      <td>0.355199</td>\n",
       "    </tr>\n",
       "    <tr>\n",
       "      <th>std</th>\n",
       "      <td>2.470462</td>\n",
       "      <td>1.594890</td>\n",
       "    </tr>\n",
       "    <tr>\n",
       "      <th>min</th>\n",
       "      <td>0.000000</td>\n",
       "      <td>0.000000</td>\n",
       "    </tr>\n",
       "    <tr>\n",
       "      <th>25%</th>\n",
       "      <td>0.000000</td>\n",
       "      <td>0.000000</td>\n",
       "    </tr>\n",
       "    <tr>\n",
       "      <th>50%</th>\n",
       "      <td>0.000000</td>\n",
       "      <td>0.000000</td>\n",
       "    </tr>\n",
       "    <tr>\n",
       "      <th>75%</th>\n",
       "      <td>0.000000</td>\n",
       "      <td>0.000000</td>\n",
       "    </tr>\n",
       "    <tr>\n",
       "      <th>max</th>\n",
       "      <td>11.512915</td>\n",
       "      <td>8.379309</td>\n",
       "    </tr>\n",
       "  </tbody>\n",
       "</table>\n",
       "</div>"
      ],
      "text/plain": [
       "       capital-gain  capital-loss\n",
       "count  30162.000000  30162.000000\n",
       "mean       0.743627      0.355199\n",
       "std        2.470462      1.594890\n",
       "min        0.000000      0.000000\n",
       "25%        0.000000      0.000000\n",
       "50%        0.000000      0.000000\n",
       "75%        0.000000      0.000000\n",
       "max       11.512915      8.379309"
      ]
     },
     "execution_count": 13,
     "metadata": {},
     "output_type": "execute_result"
    }
   ],
   "source": [
    "dataModificada[[\"capital-gain\", \"capital-loss\"]].describe()"
   ]
  },
  {
   "cell_type": "markdown",
   "id": "a8558e93",
   "metadata": {
    "hidden": true
   },
   "source": [
    "Los valores de capital-gain pasaron de 0-99999 a 0-12. Los valores de capital-loss pasaron de 0-4300 a 0-8"
   ]
  },
  {
   "cell_type": "code",
   "execution_count": 14,
   "id": "308bb7b4",
   "metadata": {
    "hidden": true
   },
   "outputs": [
    {
     "name": "stdout",
     "output_type": "stream",
     "text": [
      "capital-gain: 0.9158543863139049\n",
      "capital-loss: 0.9526888137391419\n",
      "Horas por semana: 0.015250978051853326\n"
     ]
    }
   ],
   "source": [
    "print(\"capital-gain: \" + str(dataModificada[\"capital-gain\"].apply(lambda x: 1 if (x == 0) else 0).sum()/30162))\n",
    "print(\"capital-loss: \" + str(dataModificada[\"capital-loss\"].apply(lambda x: 1 if (x == 0) else 0).sum()/30162))\n",
    "print(\"Horas por semana: \" + str(dataModificada[\"hours-per-week\"].apply(lambda x: 1 if (x > 70) else 0).sum()/30162))"
   ]
  },
  {
   "cell_type": "markdown",
   "id": "ebb2db55",
   "metadata": {
    "hidden": true
   },
   "source": [
    "Si bien capital gain y loss esta concetrado en 0, por el momento lo vamos a dejar, a posteriori se analizara si afecta el eliminarlo. En las horas por semana hay un 1% que supera mas de 70hs (serian mas de 10 horas todos los dias). Vamos a realizar una deteccion de anomalias"
   ]
  },
  {
   "cell_type": "code",
   "execution_count": 15,
   "id": "079c9ea7",
   "metadata": {
    "hidden": true
   },
   "outputs": [
    {
     "name": "stderr",
     "output_type": "stream",
     "text": [
      "C:\\Users\\ignacio.milesi\\tf\\lib\\site-packages\\seaborn\\_decorators.py:43: FutureWarning: Pass the following variable as a keyword arg: x. From version 0.12, the only valid positional argument will be `data`, and passing other arguments without an explicit keyword will result in an error or misinterpretation.\n",
      "  FutureWarning\n"
     ]
    },
    {
     "name": "stdout",
     "output_type": "stream",
     "text": [
      "25.0: 0.10811617266759499\n",
      "60.0: 0.08146011537696439\n"
     ]
    },
    {
     "data": {
      "image/png": "[encoded data removed]",
      "text/plain": [
       "<Figure size 432x288 with 1 Axes>"
      ]
     },
     "metadata": {
      "needs_background": "light"
     },
     "output_type": "display_data"
    }
   ],
   "source": [
    "sns.boxplot(dataModificada['hours-per-week'])\n",
    "sns.histplot(data= dataModificada, x= \"hours-per-week\", hue= \"salary\", multiple=\"stack\", log_scale=(False, True))\n",
    "\n",
    "def rango_anomalia(df, parametro):\n",
    "    IQR = df[parametro].quantile(0.75) - df[parametro].quantile(0.25)\n",
    "    \n",
    "    lower_range = df[parametro].quantile(0.25) - (2 * 1.5 * IQR)\n",
    "    upper_range = df[parametro].quantile(0.75) + (2 * 1.5 * IQR)\n",
    "    \n",
    "    print(str(lower_range) + \": \" + \n",
    "          str(dataModificada[\"hours-per-week\"].apply(lambda x: 1 if (x <= lower_range ) else 0).sum()/30162))\n",
    "    \n",
    "    print(str(upper_range) + \": \" + \n",
    "          str(dataModificada[\"hours-per-week\"].apply(lambda x: 1 if (x >= upper_range ) else 0).sum()/30162))\n",
    "    #df.loc[df[parametro] <= lower_range, parametro] = lower_range\n",
    "    #df.loc[df[parametro] >= upper_range, parametro] = upper_range\n",
    "    \n",
    "rango_anomalia(dataModificada, 'hours-per-week')\n"
   ]
  },
  {
   "cell_type": "code",
   "execution_count": 16,
   "id": "e0c78b43",
   "metadata": {
    "hidden": true
   },
   "outputs": [
    {
     "name": "stderr",
     "output_type": "stream",
     "text": [
      "C:\\Users\\ignacio.milesi\\tf\\lib\\site-packages\\seaborn\\_decorators.py:43: FutureWarning: Pass the following variable as a keyword arg: x. From version 0.12, the only valid positional argument will be `data`, and passing other arguments without an explicit keyword will result in an error or misinterpretation.\n",
      "  FutureWarning\n"
     ]
    },
    {
     "data": {
      "text/plain": [
       "<AxesSubplot:xlabel='hours-per-week', ylabel='Count'>"
      ]
     },
     "execution_count": 16,
     "metadata": {},
     "output_type": "execute_result"
    },
    {
     "data": {
      "image/png": "[encoded data removed]",
      "text/plain": [
       "<Figure size 432x288 with 1 Axes>"
      ]
     },
     "metadata": {
      "needs_background": "light"
     },
     "output_type": "display_data"
    }
   ],
   "source": [
    "def eliminar_anomalia_superior(df, parametro):\n",
    "    IQR = df[parametro].quantile(0.75) - df[parametro].quantile(0.25)\n",
    "    \n",
    "    upper_range = df[parametro].quantile(0.75) + (2 * 1.5 * IQR)\n",
    "    \n",
    "    df.loc[df[parametro] >= upper_range, parametro] = upper_range\n",
    "    \n",
    "eliminar_anomalia_superior(dataModificada, 'hours-per-week')\n",
    "\n",
    "sns.boxplot(dataModificada['hours-per-week'])\n",
    "sns.histplot(data= dataModificada, x= \"hours-per-week\", hue= \"salary\", multiple=\"stack\", log_scale=(False, True))"
   ]
  },
  {
   "cell_type": "markdown",
   "id": "fb121e50",
   "metadata": {
    "heading_collapsed": true,
    "hidden": true
   },
   "source": [
    "### Vamos por el salary "
   ]
  },
  {
   "cell_type": "code",
   "execution_count": 17,
   "id": "1c36716f",
   "metadata": {
    "hidden": true
   },
   "outputs": [
    {
     "data": {
      "text/plain": [
       "array([' <=50K', ' >50K'], dtype=object)"
      ]
     },
     "execution_count": 17,
     "metadata": {},
     "output_type": "execute_result"
    }
   ],
   "source": [
    "# Vemos que valores hay\n",
    "\n",
    "dataModificada['salary'].unique()"
   ]
  },
  {
   "cell_type": "code",
   "execution_count": 18,
   "id": "ed9e0cab",
   "metadata": {
    "hidden": true,
    "scrolled": false
   },
   "outputs": [
    {
     "data": {
      "text/plain": [
       "array([0, 1])"
      ]
     },
     "execution_count": 18,
     "metadata": {},
     "output_type": "execute_result"
    }
   ],
   "source": [
    "# solo hay dos valores: mayor a 50K y menor a 50K\n",
    "# cambiamos a 1 y 0: 1 para mayot a 50K\n",
    "\n",
    "dataModificada[\"salary\"] = np.where(dataModificada[\"salary\"] == ' >50K', 1, 0)\n",
    "\n",
    "dataModificada['salary'].unique()"
   ]
  },
  {
   "cell_type": "markdown",
   "id": "c7941ae5",
   "metadata": {
    "hidden": true
   },
   "source": [
    "Los valores pasaron de \"<=50K\", \">50K\" a 0 y 1"
   ]
  },
  {
   "cell_type": "markdown",
   "id": "d317d1d1",
   "metadata": {
    "heading_collapsed": true
   },
   "source": [
    "## Entrenamiento"
   ]
  },
  {
   "cell_type": "markdown",
   "id": "486e5cb8",
   "metadata": {
    "heading_collapsed": true,
    "hidden": true
   },
   "source": [
    "### LogisticRegression 1 "
   ]
  },
  {
   "cell_type": "code",
   "execution_count": 19,
   "id": "5876039c",
   "metadata": {
    "hidden": true,
    "hide_input": false
   },
   "outputs": [],
   "source": [
    "from sklearn.model_selection import train_test_split"
   ]
  },
  {
   "cell_type": "code",
   "execution_count": 20,
   "id": "fab648cb",
   "metadata": {
    "hidden": true
   },
   "outputs": [
    {
     "name": "stdout",
     "output_type": "stream",
     "text": [
      "X:\n",
      "(30162, 102)\n",
      "\n",
      "y:\n",
      "(30162,)\n",
      "0    22654\n",
      "1     7508\n",
      "Name: salary, dtype: int64\n"
     ]
    }
   ],
   "source": [
    "X = dataModificada.drop(columns=[\"salary\"])\n",
    "y = dataModificada[\"salary\"]\n",
    "\n",
    "print(\"X:\")\n",
    "print(X.shape)\n",
    "print(\"\")\n",
    "print(\"y:\")\n",
    "print(y.shape)\n",
    "print(y.value_counts())"
   ]
  },
  {
   "cell_type": "code",
   "execution_count": 21,
   "id": "0e5cc775",
   "metadata": {
    "hidden": true
   },
   "outputs": [
    {
     "name": "stdout",
     "output_type": "stream",
     "text": [
      "Train data shape: (24129, 102)\n",
      "Test data shape: (6033, 102)\n"
     ]
    }
   ],
   "source": [
    "X_train, X_test, y_train, y_test = train_test_split(X, y, test_size=0.2, random_state=42)\n",
    "\n",
    "print(\"Train data shape: {}\".format(X_train.shape))\n",
    "print(\"Test data shape: {}\".format(X_test.shape))"
   ]
  },
  {
   "cell_type": "code",
   "execution_count": 22,
   "id": "7f0721e3",
   "metadata": {
    "hidden": true
   },
   "outputs": [],
   "source": [
    "from sklearn.linear_model import LogisticRegression\n",
    "\n",
    "lg_model = LogisticRegression(solver= \"liblinear\")"
   ]
  },
  {
   "cell_type": "code",
   "execution_count": 23,
   "id": "c443cf74",
   "metadata": {
    "hidden": true
   },
   "outputs": [
    {
     "data": {
      "text/plain": [
       "LogisticRegression(solver='liblinear')"
      ]
     },
     "execution_count": 23,
     "metadata": {},
     "output_type": "execute_result"
    }
   ],
   "source": [
    "lg_model.fit(X_train, y_train)"
   ]
  },
  {
   "cell_type": "code",
   "execution_count": 24,
   "id": "9e61ff20",
   "metadata": {
    "hidden": true
   },
   "outputs": [],
   "source": [
    "y_pred = lg_model.predict(X_test)"
   ]
  },
  {
   "cell_type": "code",
   "execution_count": 25,
   "id": "90a20c51",
   "metadata": {
    "hidden": true
   },
   "outputs": [
    {
     "name": "stdout",
     "output_type": "stream",
     "text": [
      "Accuracy Score: 0.8463451019393337\n",
      "\n",
      "Confusion Matrix:\n",
      " [[4188  315]\n",
      " [ 612  918]]\n",
      "\n",
      "Classification Report:\n",
      "               precision    recall  f1-score   support\n",
      "\n",
      "           0       0.87      0.93      0.90      4503\n",
      "           1       0.74      0.60      0.66      1530\n",
      "\n",
      "    accuracy                           0.85      6033\n",
      "   macro avg       0.81      0.77      0.78      6033\n",
      "weighted avg       0.84      0.85      0.84      6033\n",
      "\n"
     ]
    }
   ],
   "source": [
    "from sklearn.metrics import confusion_matrix, accuracy_score, classification_report\n",
    "\n",
    "print(\"Accuracy Score: {}\".format(accuracy_score(y_test, y_pred)))\n",
    "print(\"\")\n",
    "print(\"Confusion Matrix:\\n {}\".format(confusion_matrix(y_test, y_pred)))\n",
    "print(\"\")\n",
    "print(\"Classification Report:\\n {}\".format(classification_report(y_test, y_pred)))"
   ]
  },
  {
   "cell_type": "markdown",
   "id": "6e7bb926",
   "metadata": {
    "heading_collapsed": true,
    "hidden": true
   },
   "source": [
    "### LogisticRegression 2 "
   ]
  },
  {
   "cell_type": "markdown",
   "id": "5dd495f4",
   "metadata": {
    "hidden": true
   },
   "source": [
    "Vamos a realizar la prueba pero eliminando la columna de capital-gain y capital-loss"
   ]
  },
  {
   "cell_type": "code",
   "execution_count": 26,
   "id": "491a4dd2",
   "metadata": {
    "hidden": true
   },
   "outputs": [
    {
     "name": "stdout",
     "output_type": "stream",
     "text": [
      "X2:\n",
      "(30162, 100)\n",
      "\n",
      "y:\n",
      "(30162,)\n",
      "0    22654\n",
      "1     7508\n",
      "Name: salary, dtype: int64\n"
     ]
    }
   ],
   "source": [
    "X2 = dataModificada.drop(columns=[\"salary\", \"capital-gain\", \"capital-loss\"])\n",
    "\n",
    "print(\"X2:\")\n",
    "print(X2.shape)\n",
    "print(\"\")\n",
    "print(\"y:\")\n",
    "print(y.shape)\n",
    "print(y.value_counts())"
   ]
  },
  {
   "cell_type": "code",
   "execution_count": 27,
   "id": "3adf7d26",
   "metadata": {
    "hidden": true
   },
   "outputs": [
    {
     "name": "stdout",
     "output_type": "stream",
     "text": [
      "Train data shape: (24129, 100)\n",
      "Test data shape: (6033, 100)\n"
     ]
    }
   ],
   "source": [
    "X_train2, X_test2, y_train2, y_test2 = train_test_split(X2, y, test_size=0.2, random_state=42)\n",
    "\n",
    "print(\"Train data shape: {}\".format(X_train2.shape))\n",
    "print(\"Test data shape: {}\".format(X_test2.shape))"
   ]
  },
  {
   "cell_type": "code",
   "execution_count": 28,
   "id": "30192668",
   "metadata": {
    "hidden": true
   },
   "outputs": [
    {
     "data": {
      "text/plain": [
       "LogisticRegression(solver='liblinear')"
      ]
     },
     "execution_count": 28,
     "metadata": {},
     "output_type": "execute_result"
    }
   ],
   "source": [
    "lg_model2 = LogisticRegression(solver= \"liblinear\")\n",
    "lg_model2.fit(X_train2, y_train2)"
   ]
  },
  {
   "cell_type": "code",
   "execution_count": 29,
   "id": "0519d799",
   "metadata": {
    "hidden": true
   },
   "outputs": [],
   "source": [
    "y_pred2 = lg_model2.predict(X_test2)"
   ]
  },
  {
   "cell_type": "code",
   "execution_count": 30,
   "id": "2f2fa187",
   "metadata": {
    "hidden": true,
    "hide_input": false,
    "scrolled": false
   },
   "outputs": [
    {
     "name": "stdout",
     "output_type": "stream",
     "text": [
      "Accuracy Score: 0.8319244157135753\n",
      "\n",
      "Confusion Matrix:\n",
      " [[4158  345]\n",
      " [ 669  861]]\n",
      "\n",
      "Classification Report:\n",
      "               precision    recall  f1-score   support\n",
      "\n",
      "           0       0.86      0.92      0.89      4503\n",
      "           1       0.71      0.56      0.63      1530\n",
      "\n",
      "    accuracy                           0.83      6033\n",
      "   macro avg       0.79      0.74      0.76      6033\n",
      "weighted avg       0.82      0.83      0.82      6033\n",
      "\n"
     ]
    }
   ],
   "source": [
    "print(\"Accuracy Score: {}\".format(accuracy_score(y_test2, y_pred2)))\n",
    "print(\"\")\n",
    "print(\"Confusion Matrix:\\n {}\".format(confusion_matrix(y_test2, y_pred2)))\n",
    "print(\"\")\n",
    "print(\"Classification Report:\\n {}\".format(classification_report(y_test2, y_pred2)))"
   ]
  },
  {
   "cell_type": "code",
   "execution_count": 31,
   "id": "e0fab247",
   "metadata": {
    "hidden": true
   },
   "outputs": [
    {
     "name": "stdout",
     "output_type": "stream",
     "text": [
      "Accuracy con capital gain y loss: 0.8463451019393337\n",
      "Accuracy sin capital gain y loss: 0.8319244157135753\n"
     ]
    }
   ],
   "source": [
    "print(\"Accuracy con capital gain y loss: {}\".format(accuracy_score(y_test, y_pred)))\n",
    "print(\"Accuracy sin capital gain y loss: {}\".format(accuracy_score(y_test2, y_pred2)))"
   ]
  },
  {
   "cell_type": "markdown",
   "id": "8d7de0aa",
   "metadata": {
    "hidden": true,
    "hide_input": false
   },
   "source": [
    " La presision disminuye poco, podria obviarse para el analisis"
   ]
  },
  {
   "cell_type": "markdown",
   "id": "d917568e",
   "metadata": {
    "heading_collapsed": true,
    "hidden": true
   },
   "source": [
    "### Decision tree"
   ]
  },
  {
   "cell_type": "code",
   "execution_count": 32,
   "id": "9ca20d32",
   "metadata": {
    "hidden": true
   },
   "outputs": [],
   "source": [
    "from sklearn.tree import DecisionTreeClassifier"
   ]
  },
  {
   "cell_type": "code",
   "execution_count": 33,
   "id": "ed2c6116",
   "metadata": {
    "hidden": true
   },
   "outputs": [
    {
     "data": {
      "text/plain": [
       "DecisionTreeClassifier()"
      ]
     },
     "execution_count": 33,
     "metadata": {},
     "output_type": "execute_result"
    }
   ],
   "source": [
    "tree_model = DecisionTreeClassifier()\n",
    "\n",
    "tree_model.fit(X_train, y_train)"
   ]
  },
  {
   "cell_type": "code",
   "execution_count": 34,
   "id": "425ace2d",
   "metadata": {
    "hidden": true
   },
   "outputs": [
    {
     "name": "stdout",
     "output_type": "stream",
     "text": [
      "Accuracy Score: 0.8138571191778551\n",
      "\n",
      "Confusion Matrix:\n",
      " [[3970  533]\n",
      " [ 590  940]]\n",
      "\n",
      "Classification Report:\n",
      "               precision    recall  f1-score   support\n",
      "\n",
      "           0       0.87      0.88      0.88      4503\n",
      "           1       0.64      0.61      0.63      1530\n",
      "\n",
      "    accuracy                           0.81      6033\n",
      "   macro avg       0.75      0.75      0.75      6033\n",
      "weighted avg       0.81      0.81      0.81      6033\n",
      "\n"
     ]
    }
   ],
   "source": [
    "y_pred_tree = tree_model.predict(X_test)\n",
    "\n",
    "print(\"Accuracy Score: {}\".format(accuracy_score(y_test, y_pred_tree)))\n",
    "print(\"\")\n",
    "print(\"Confusion Matrix:\\n {}\".format(confusion_matrix(y_test, y_pred_tree)))\n",
    "print(\"\")\n",
    "print(\"Classification Report:\\n {}\".format(classification_report(y_test, y_pred_tree)))"
   ]
  },
  {
   "cell_type": "code",
   "execution_count": 35,
   "id": "4897bcc3",
   "metadata": {
    "hidden": true
   },
   "outputs": [
    {
     "name": "stdout",
     "output_type": "stream",
     "text": [
      "Accuracy Score: 0.7767279960218797\n",
      "\n",
      "Confusion Matrix:\n",
      " [[3879  624]\n",
      " [ 723  807]]\n",
      "\n",
      "Classification Report:\n",
      "               precision    recall  f1-score   support\n",
      "\n",
      "           0       0.84      0.86      0.85      4503\n",
      "           1       0.56      0.53      0.55      1530\n",
      "\n",
      "    accuracy                           0.78      6033\n",
      "   macro avg       0.70      0.69      0.70      6033\n",
      "weighted avg       0.77      0.78      0.77      6033\n",
      "\n"
     ]
    }
   ],
   "source": [
    "tree_model2 = DecisionTreeClassifier()\n",
    "\n",
    "tree_model2.fit(X_train2, y_train2)\n",
    "\n",
    "y_pred_tree2 = tree_model2.predict(X_test2)\n",
    "\n",
    "print(\"Accuracy Score: {}\".format(accuracy_score(y_test2, y_pred_tree2)))\n",
    "print(\"\")\n",
    "print(\"Confusion Matrix:\\n {}\".format(confusion_matrix(y_test2, y_pred_tree2)))\n",
    "print(\"\")\n",
    "print(\"Classification Report:\\n {}\".format(classification_report(y_test2, y_pred_tree2)))"
   ]
  },
  {
   "cell_type": "code",
   "execution_count": 36,
   "id": "fbe4620c",
   "metadata": {
    "hidden": true
   },
   "outputs": [
    {
     "name": "stdout",
     "output_type": "stream",
     "text": [
      "Accuracy con capital gain y loss: 0.8138571191778551\n",
      "Accuracy sin capital gain y loss: 0.7767279960218797\n"
     ]
    }
   ],
   "source": [
    "print(\"Accuracy con capital gain y loss: {}\".format(accuracy_score(y_test, y_pred_tree)))\n",
    "print(\"Accuracy sin capital gain y loss: {}\".format(accuracy_score(y_test2, y_pred_tree2)))"
   ]
  },
  {
   "cell_type": "markdown",
   "id": "2d57305c",
   "metadata": {
    "hidden": true
   },
   "source": [
    "La presision disminuye mas significativamente, si se utiliza el decision tree , no se podria obviar para el analisis"
   ]
  },
  {
   "cell_type": "code",
   "execution_count": 37,
   "id": "975e000c",
   "metadata": {
    "hidden": true
   },
   "outputs": [
    {
     "name": "stdout",
     "output_type": "stream",
     "text": [
      "LogisticRegression:\n",
      "Accuracy con capital gain y loss: 0.8463451019393337\n",
      "Accuracy sin capital gain y loss: 0.8319244157135753\n",
      "\n",
      "Decision Tree:\n",
      "Accuracy con capital gain y loss: 0.8138571191778551\n",
      "Accuracy sin capital gain y loss: 0.7767279960218797\n"
     ]
    }
   ],
   "source": [
    "print(\"LogisticRegression:\")\n",
    "print(\"Accuracy con capital gain y loss: {}\".format(accuracy_score(y_test, y_pred)))\n",
    "print(\"Accuracy sin capital gain y loss: {}\".format(accuracy_score(y_test2, y_pred2)))\n",
    "print(\"\")\n",
    "print(\"Decision Tree:\")\n",
    "print(\"Accuracy con capital gain y loss: {}\".format(accuracy_score(y_test, y_pred_tree)))\n",
    "print(\"Accuracy sin capital gain y loss: {}\".format(accuracy_score(y_test2, y_pred_tree2)))"
   ]
  },
  {
   "cell_type": "markdown",
   "id": "4e16466e",
   "metadata": {
    "hidden": true
   },
   "source": [
    "El logistic Regression tendria mejor presicion"
   ]
  },
  {
   "cell_type": "markdown",
   "id": "15088307",
   "metadata": {
    "heading_collapsed": true,
    "hidden": true
   },
   "source": [
    "### Random forest"
   ]
  },
  {
   "cell_type": "code",
   "execution_count": 38,
   "id": "768bb7e1",
   "metadata": {
    "hidden": true
   },
   "outputs": [],
   "source": [
    "from sklearn.ensemble import RandomForestClassifier"
   ]
  },
  {
   "cell_type": "code",
   "execution_count": 39,
   "id": "4f7d4142",
   "metadata": {
    "hidden": true
   },
   "outputs": [
    {
     "data": {
      "text/plain": [
       "RandomForestClassifier()"
      ]
     },
     "execution_count": 39,
     "metadata": {},
     "output_type": "execute_result"
    }
   ],
   "source": [
    "forest_model = RandomForestClassifier()\n",
    "\n",
    "forest_model.fit(X_train, y_train)"
   ]
  },
  {
   "cell_type": "code",
   "execution_count": 40,
   "id": "de5c1420",
   "metadata": {
    "hidden": true
   },
   "outputs": [
    {
     "name": "stdout",
     "output_type": "stream",
     "text": [
      "Accuracy Score: 0.8436930217139068\n",
      "\n",
      "Confusion Matrix:\n",
      " [[4100  403]\n",
      " [ 540  990]]\n",
      "\n",
      "Classification Report:\n",
      "               precision    recall  f1-score   support\n",
      "\n",
      "           0       0.88      0.91      0.90      4503\n",
      "           1       0.71      0.65      0.68      1530\n",
      "\n",
      "    accuracy                           0.84      6033\n",
      "   macro avg       0.80      0.78      0.79      6033\n",
      "weighted avg       0.84      0.84      0.84      6033\n",
      "\n"
     ]
    }
   ],
   "source": [
    "y_pred_forest = forest_model.predict(X_test)\n",
    "\n",
    "print(\"Accuracy Score: {}\".format(accuracy_score(y_test, y_pred_forest)))\n",
    "print(\"\")\n",
    "print(\"Confusion Matrix:\\n {}\".format(confusion_matrix(y_test, y_pred_forest)))\n",
    "print(\"\")\n",
    "print(\"Classification Report:\\n {}\".format(classification_report(y_test, y_pred_forest)))"
   ]
  },
  {
   "cell_type": "markdown",
   "id": "7521d3ab",
   "metadata": {
    "hidden": true
   },
   "source": [
    "La presicion mejoro encomparacion con el tree"
   ]
  },
  {
   "cell_type": "code",
   "execution_count": 41,
   "id": "aac10362",
   "metadata": {
    "hidden": true
   },
   "outputs": [
    {
     "name": "stdout",
     "output_type": "stream",
     "text": [
      "Accuracy Score: 0.8097132438256257\n",
      "\n",
      "Confusion Matrix:\n",
      " [[4005  498]\n",
      " [ 650  880]]\n",
      "\n",
      "Classification Report:\n",
      "               precision    recall  f1-score   support\n",
      "\n",
      "           0       0.86      0.89      0.87      4503\n",
      "           1       0.64      0.58      0.61      1530\n",
      "\n",
      "    accuracy                           0.81      6033\n",
      "   macro avg       0.75      0.73      0.74      6033\n",
      "weighted avg       0.80      0.81      0.81      6033\n",
      "\n"
     ]
    }
   ],
   "source": [
    "forest_model2 = RandomForestClassifier()\n",
    "\n",
    "forest_model2.fit(X_train2, y_train2)\n",
    "\n",
    "y_pred_forest2 = forest_model2.predict(X_test2)\n",
    "\n",
    "print(\"Accuracy Score: {}\".format(accuracy_score(y_test2, y_pred_forest2)))\n",
    "print(\"\")\n",
    "print(\"Confusion Matrix:\\n {}\".format(confusion_matrix(y_test2, y_pred_forest2)))\n",
    "print(\"\")\n",
    "print(\"Classification Report:\\n {}\".format(classification_report(y_test2, y_pred_forest2)))"
   ]
  },
  {
   "cell_type": "code",
   "execution_count": 42,
   "id": "23b2bee7",
   "metadata": {
    "hidden": true
   },
   "outputs": [
    {
     "name": "stdout",
     "output_type": "stream",
     "text": [
      "Accuracy con capital gain y loss: 0.8436930217139068\n",
      "Accuracy sin capital gain y loss: 0.8097132438256257\n"
     ]
    }
   ],
   "source": [
    "print(\"Accuracy con capital gain y loss: {}\".format(accuracy_score(y_test, y_pred_forest)))\n",
    "print(\"Accuracy sin capital gain y loss: {}\".format(accuracy_score(y_test2, y_pred_forest2)))"
   ]
  },
  {
   "cell_type": "markdown",
   "id": "221844f9",
   "metadata": {
    "hidden": true
   },
   "source": [
    "La presision disminuye mas significativamente, si se utiliza el random forest , no se podria obviar para el analisis"
   ]
  },
  {
   "cell_type": "code",
   "execution_count": 43,
   "id": "9c12639f",
   "metadata": {
    "hidden": true
   },
   "outputs": [
    {
     "name": "stdout",
     "output_type": "stream",
     "text": [
      "LogisticRegression:\n",
      "Accuracy con capital gain y loss: 0.8463451019393337\n",
      "Accuracy sin capital gain y loss: 0.8319244157135753\n",
      "\n",
      "Decision Tree:\n",
      "Accuracy con capital gain y loss: 0.8138571191778551\n",
      "Accuracy sin capital gain y loss: 0.7767279960218797\n",
      "\n",
      "Random Forest:\n",
      "Accuracy con capital gain y loss: 0.8436930217139068\n",
      "Accuracy sin capital gain y loss: 0.8097132438256257\n"
     ]
    }
   ],
   "source": [
    "print(\"LogisticRegression:\")\n",
    "print(\"Accuracy con capital gain y loss: {}\".format(accuracy_score(y_test, y_pred)))\n",
    "print(\"Accuracy sin capital gain y loss: {}\".format(accuracy_score(y_test2, y_pred2)))\n",
    "print(\"\")\n",
    "print(\"Decision Tree:\")\n",
    "print(\"Accuracy con capital gain y loss: {}\".format(accuracy_score(y_test, y_pred_tree)))\n",
    "print(\"Accuracy sin capital gain y loss: {}\".format(accuracy_score(y_test2, y_pred_tree2)))\n",
    "print(\"\")\n",
    "print(\"Random Forest:\")\n",
    "print(\"Accuracy con capital gain y loss: {}\".format(accuracy_score(y_test, y_pred_forest)))\n",
    "print(\"Accuracy sin capital gain y loss: {}\".format(accuracy_score(y_test2, y_pred_forest2)))"
   ]
  },
  {
   "cell_type": "markdown",
   "id": "91613121",
   "metadata": {
    "hidden": true
   },
   "source": [
    "Logistic regression (con y sin capital gain y loss) y Random Fores (con capital gain y loss) son los de mejor presicion"
   ]
  },
  {
   "cell_type": "markdown",
   "id": "fec6c867",
   "metadata": {
    "heading_collapsed": true
   },
   "source": [
    "## Analisis de curva"
   ]
  },
  {
   "cell_type": "markdown",
   "id": "73369246",
   "metadata": {
    "hidden": true
   },
   "source": [
    "Vamos a analizas el modelo, viendo su precision, para ver si faltarian datos o hay sobreajuste. Para esto solo vamos usar el LogisticRegression con capital gain y loss"
   ]
  },
  {
   "cell_type": "code",
   "execution_count": 60,
   "id": "d2b0c493",
   "metadata": {
    "hidden": true,
    "scrolled": true
   },
   "outputs": [
    {
     "name": "stdout",
     "output_type": "stream",
     "text": [
      "500 de 8000\n",
      "1000 de 8000\n",
      "1500 de 8000\n",
      "2000 de 8000\n",
      "2500 de 8000\n",
      "3000 de 8000\n",
      "3500 de 8000\n",
      "4000 de 8000\n",
      "4500 de 8000\n",
      "5000 de 8000\n",
      "5500 de 8000\n",
      "6000 de 8000\n",
      "6500 de 8000\n",
      "7000 de 8000\n",
      "7500 de 8000\n",
      "\n",
      "\n",
      "\n",
      "Precision del entrenamiento: 0.8456057007125891\n",
      "Precision del entrenamiento: 0.8448533068125311\n"
     ]
    },
    {
     "data": {
      "text/plain": [
       "<AxesSubplot:>"
      ]
     },
     "execution_count": 60,
     "metadata": {},
     "output_type": "execute_result"
    },
    {
     "data": {
      "image/png": "[encoded data removed]",
      "text/plain": [
       "<Figure size 1080x576 with 1 Axes>"
      ]
     },
     "metadata": {},
     "output_type": "display_data"
    }
   ],
   "source": [
    "acc_train = []\n",
    "acc_test = []\n",
    "\n",
    "#Tomamos solo los primeros 8000 casos ya que a esa cantidad ya converge\n",
    "\n",
    "for i in range(10, 8000):\n",
    "    \n",
    "    X_prueba = X_train.iloc[0:i]\n",
    "    y_prueba = y_train.iloc[0:i]\n",
    "    \n",
    "    lg_model_prueba = LogisticRegression(solver= \"liblinear\")\n",
    "    \n",
    "    lg_model_prueba.fit(X_prueba, y_prueba)\n",
    "    \n",
    "    y_pred_prueba = lg_model_prueba.predict(X_test)\n",
    "    y_pred_train_prueba = lg_model_prueba.predict(X_prueba)\n",
    "    \n",
    "    acc_test.append(accuracy_score(y_test, y_pred_prueba))\n",
    "    acc_train.append(accuracy_score(y_prueba, y_pred_train_prueba))\n",
    "    \n",
    "    if (i%500 == 0): print(str(i) + \" de 8000\")\n",
    "    \n",
    "print(\"\")\n",
    "print(\"\")\n",
    "print(\"\")\n",
    "print(\"Precision del entrenamiento: \" + str(acc_train.pop()))\n",
    "print(\"Precision del test: \" + str(acc_test.pop()))\n",
    "\n",
    "sns.set(rc = {'figure.figsize':(15,8)})\n",
    "sns.lineplot(data = acc_test)\n",
    "sns.lineplot(data = acc_train)"
   ]
  },
  {
   "cell_type": "markdown",
   "id": "92184e07",
   "metadata": {
    "hidden": true
   },
   "source": [
    "La Precision del conjunto de entrenamiento y el de prueba convergen al mismo valor. Implicaria que no se nesitaria mas casos y que no hay sobreajuste "
   ]
  },
  {
   "cell_type": "code",
   "execution_count": null,
   "id": "0b2d1b6a",
   "metadata": {
    "hidden": true
   },
   "outputs": [],
   "source": []
  }
 ],
 "metadata": {
  "kernelspec": {
   "display_name": "Python 3 (ipykernel)",
   "language": "python",
   "name": "python3"
  },
  "language_info": {
   "codemirror_mode": {
    "name": "ipython",
    "version": 3
   },
   "file_extension": ".py",
   "mimetype": "text/x-python",
   "name": "python",
   "nbconvert_exporter": "python",
   "pygments_lexer": "ipython3",
   "version": "3.7.9"
  },
  "toc": {
   "base_numbering": 1,
   "nav_menu": {},
   "number_sections": true,
   "sideBar": true,
   "skip_h1_title": false,
   "title_cell": "Table of Contents",
   "title_sidebar": "Contents",
   "toc_cell": false,
   "toc_position": {
    "height": "calc(100% - 180px)",
    "left": "10px",
    "top": "150px",
    "width": "273.188px"
   },
   "toc_section_display": true,
   "toc_window_display": false
  }
 },
 "nbformat": 4,
 "nbformat_minor": 5
}
